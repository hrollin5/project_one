{
 "cells": [
  {
   "cell_type": "code",
   "execution_count": null,
   "metadata": {},
   "outputs": [],
   "source": [
    "import pandas as pd\n",
    "\n",
    "df = pd.read_csv('data-gGOWY.csv')"
   ]
  },
  {
   "cell_type": "code",
   "execution_count": null,
   "metadata": {},
   "outputs": [],
   "source": [
    "# Assuming 'healthcare_facilities' and 'health_outcomes' are columns representing relevant factors\n",
    "# You can change the weight values based on the importance of each factor.\n",
    "weight_facilities = 0.6\n",
    "weight_outcomes = 0.4\n",
    "\n",
    "# Calculate the health care benefits score\n",
    "df['healthcare_benefits_score'] = (df['healthcare_facilities'] * weight_facilities) + (df['health_outcomes'] * weight_outcomes)\n"
   ]
  },
  {
   "cell_type": "code",
   "execution_count": null,
   "metadata": {},
   "outputs": [],
   "source": [
    "# Sort the DataFrame by 'healthcare_benefits_score' in descending order\n",
    "df_sorted = df.sort_values(by='healthcare_benefits_score', ascending=False)\n",
    "\n",
    "# Select the top 10 states\n",
    "top_10_states = df_sorted.head(10)"
   ]
  },
  {
   "cell_type": "code",
   "execution_count": null,
   "metadata": {},
   "outputs": [],
   "source": [
    "# Visual Mapping\n",
    "# Sample DataFrame\n",
    "data = {\n",
    "    'Name': ['Location A', 'Location B', 'Location C'],\n",
    "    'Latitude': [40.7128, 34.0522, 37.7749],\n",
    "    'Longitude': [-74.0060, -118.2437, -122.4194]\n",
    "}\n",
    "\n",
    "df = pd.DataFrame(data)\n",
    "\n",
    "# Create a map centered at a specific location (e.g., New York City)\n",
    "map_center = [40.7128, -74.0060]\n",
    "map_visual = folium.Map(location=map_center, zoom_start=5)\n",
    "\n",
    "# Add markers to the map based on the DataFrame\n",
    "for index, row in df.iterrows():\n",
    "    location = [row['Latitude'], row['Longitude']]\n",
    "    popup_text = f\"Name: {row['Name']}\"\n",
    "    folium.Marker(location=location, popup=popup_text).add_to(map_visual)\n",
    "\n",
    "# Display the map\n",
    "map_visual"
   ]
  },
  {
   "cell_type": "code",
   "execution_count": null,
   "metadata": {},
   "outputs": [],
   "source": [
    "# Ask the user for their age and sickness condition\n",
    "age = int(input(\"Please enter your age: \"))\n",
    "sickness = input(\"Do you have a chronic sickness? (yes/no): \")"
   ]
  },
  {
   "cell_type": "code",
   "execution_count": null,
   "metadata": {},
   "outputs": [],
   "source": [
    "# Determine the better health care plan based on age and sickness\n",
    "if age < 18:\n",
    "    if sickness.lower() == 'yes':\n",
    "        health_care_options = ['Plan A', 'Plan C']\n",
    "    else:\n",
    "        health_care_options = ['Plan A', 'Plan B', 'Plan C']\n",
    "elif age >= 18 and age < 65:\n",
    "    if sickness.lower() == 'yes':\n",
    "        health_care_options = ['Plan A', 'Plan B']\n",
    "    else:\n",
    "        health_care_options = ['Plan A', 'Plan B', 'Plan C']\n",
    "else:\n",
    "    if sickness.lower() == 'yes':\n",
    "        health_care_options = ['Plan B', 'Plan C']\n",
    "    else:\n",
    "        health_care_options = ['Plan B', 'Plan C']\n",
    "        \n",
    "# Display \n",
    "print(\"Based on your age and health condition, the following health care options are better for you:\")\n",
    "for option in health_care_options:\n",
    "    print(option)"
   ]
  }
 ],
 "metadata": {
  "language_info": {
   "name": "python"
  },
  "orig_nbformat": 4
 },
 "nbformat": 4,
 "nbformat_minor": 2
}
